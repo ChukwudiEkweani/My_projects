{
 "cells": [
  {
   "cell_type": "code",
   "execution_count": 2,
   "id": "59194098-41e3-4c08-a90c-0453c8198d13",
   "metadata": {},
   "outputs": [],
   "source": [
    "# Importing Libraries.\n",
    "\n",
    "import pandas as pd\n",
    "import numpy as np\n",
    "import matplotlib.pyplot as plt"
   ]
  },
  {
   "cell_type": "code",
   "execution_count": 5,
   "id": "ad9ff106-54cc-4ac4-8bfa-d8fd594ef3f7",
   "metadata": {},
   "outputs": [
    {
     "data": {
      "text/html": [
       "<div>\n",
       "<style scoped>\n",
       "    .dataframe tbody tr th:only-of-type {\n",
       "        vertical-align: middle;\n",
       "    }\n",
       "\n",
       "    .dataframe tbody tr th {\n",
       "        vertical-align: top;\n",
       "    }\n",
       "\n",
       "    .dataframe thead th {\n",
       "        text-align: right;\n",
       "    }\n",
       "</style>\n",
       "<table border=\"1\" class=\"dataframe\">\n",
       "  <thead>\n",
       "    <tr style=\"text-align: right;\">\n",
       "      <th></th>\n",
       "      <th>name</th>\n",
       "      <th>studio</th>\n",
       "      <th>yearReleased</th>\n",
       "      <th>rating</th>\n",
       "    </tr>\n",
       "  </thead>\n",
       "  <tbody>\n",
       "    <tr>\n",
       "      <th>0</th>\n",
       "      <td>100-man no Inochi no Ue ni Ore wa Tatteiru 2nd...</td>\n",
       "      <td>Maho Film</td>\n",
       "      <td>2021</td>\n",
       "      <td>7.12</td>\n",
       "    </tr>\n",
       "    <tr>\n",
       "      <th>1</th>\n",
       "      <td>180 Byou de Kimi no Mimi wo Shiawase ni Dekiru...</td>\n",
       "      <td>EKACHI EPILKA, Indivision</td>\n",
       "      <td>2021</td>\n",
       "      <td>6.17</td>\n",
       "    </tr>\n",
       "    <tr>\n",
       "      <th>2</th>\n",
       "      <td>2.43: Seiin Koukou Danshi Volley-bu</td>\n",
       "      <td>David Production</td>\n",
       "      <td>2021</td>\n",
       "      <td>0.00</td>\n",
       "    </tr>\n",
       "    <tr>\n",
       "      <th>3</th>\n",
       "      <td>4-nin wa Sorezore Uso wo Tsuku</td>\n",
       "      <td>Studio Flad</td>\n",
       "      <td>2022</td>\n",
       "      <td>6.77</td>\n",
       "    </tr>\n",
       "    <tr>\n",
       "      <th>4</th>\n",
       "      <td>5-toubun no Hanayome ∬</td>\n",
       "      <td>Bibury Animation Studios</td>\n",
       "      <td>2021</td>\n",
       "      <td>0.00</td>\n",
       "    </tr>\n",
       "  </tbody>\n",
       "</table>\n",
       "</div>"
      ],
      "text/plain": [
       "                                                name  \\\n",
       "0  100-man no Inochi no Ue ni Ore wa Tatteiru 2nd...   \n",
       "1  180 Byou de Kimi no Mimi wo Shiawase ni Dekiru...   \n",
       "2                2.43: Seiin Koukou Danshi Volley-bu   \n",
       "3                     4-nin wa Sorezore Uso wo Tsuku   \n",
       "4                             5-toubun no Hanayome ∬   \n",
       "\n",
       "                       studio yearReleased  rating  \n",
       "0                   Maho Film         2021    7.12  \n",
       "1   EKACHI EPILKA, Indivision         2021    6.17  \n",
       "2            David Production         2021    0.00  \n",
       "3                 Studio Flad         2022    6.77  \n",
       "4    Bibury Animation Studios         2021    0.00  "
      ]
     },
     "execution_count": 5,
     "metadata": {},
     "output_type": "execute_result"
    }
   ],
   "source": [
    "df = pd.read_csv(\"../Data/AnimeList.csv\", index_col = 0)\n",
    "df.head()"
   ]
  },
  {
   "cell_type": "code",
   "execution_count": 6,
   "id": "97088570-0cdf-4db1-a3e4-00d0630b5992",
   "metadata": {},
   "outputs": [
    {
     "data": {
      "text/html": [
       "<div>\n",
       "<style scoped>\n",
       "    .dataframe tbody tr th:only-of-type {\n",
       "        vertical-align: middle;\n",
       "    }\n",
       "\n",
       "    .dataframe tbody tr th {\n",
       "        vertical-align: top;\n",
       "    }\n",
       "\n",
       "    .dataframe thead th {\n",
       "        text-align: right;\n",
       "    }\n",
       "</style>\n",
       "<table border=\"1\" class=\"dataframe\">\n",
       "  <thead>\n",
       "    <tr style=\"text-align: right;\">\n",
       "      <th></th>\n",
       "      <th>name</th>\n",
       "      <th>studio</th>\n",
       "      <th>yearReleased</th>\n",
       "      <th>rating</th>\n",
       "    </tr>\n",
       "  </thead>\n",
       "  <tbody>\n",
       "    <tr>\n",
       "      <th>count</th>\n",
       "      <td>467</td>\n",
       "      <td>467</td>\n",
       "      <td>467</td>\n",
       "      <td>467.000000</td>\n",
       "    </tr>\n",
       "    <tr>\n",
       "      <th>unique</th>\n",
       "      <td>450</td>\n",
       "      <td>166</td>\n",
       "      <td>22</td>\n",
       "      <td>NaN</td>\n",
       "    </tr>\n",
       "    <tr>\n",
       "      <th>top</th>\n",
       "      <td>Black Clover</td>\n",
       "      <td>J.C.Staff</td>\n",
       "      <td>2021</td>\n",
       "      <td>NaN</td>\n",
       "    </tr>\n",
       "    <tr>\n",
       "      <th>freq</th>\n",
       "      <td>3</td>\n",
       "      <td>16</td>\n",
       "      <td>171</td>\n",
       "      <td>NaN</td>\n",
       "    </tr>\n",
       "    <tr>\n",
       "      <th>mean</th>\n",
       "      <td>NaN</td>\n",
       "      <td>NaN</td>\n",
       "      <td>NaN</td>\n",
       "      <td>2.338801</td>\n",
       "    </tr>\n",
       "    <tr>\n",
       "      <th>std</th>\n",
       "      <td>NaN</td>\n",
       "      <td>NaN</td>\n",
       "      <td>NaN</td>\n",
       "      <td>3.393290</td>\n",
       "    </tr>\n",
       "    <tr>\n",
       "      <th>min</th>\n",
       "      <td>NaN</td>\n",
       "      <td>NaN</td>\n",
       "      <td>NaN</td>\n",
       "      <td>0.000000</td>\n",
       "    </tr>\n",
       "    <tr>\n",
       "      <th>25%</th>\n",
       "      <td>NaN</td>\n",
       "      <td>NaN</td>\n",
       "      <td>NaN</td>\n",
       "      <td>0.000000</td>\n",
       "    </tr>\n",
       "    <tr>\n",
       "      <th>50%</th>\n",
       "      <td>NaN</td>\n",
       "      <td>NaN</td>\n",
       "      <td>NaN</td>\n",
       "      <td>0.000000</td>\n",
       "    </tr>\n",
       "    <tr>\n",
       "      <th>75%</th>\n",
       "      <td>NaN</td>\n",
       "      <td>NaN</td>\n",
       "      <td>NaN</td>\n",
       "      <td>6.420000</td>\n",
       "    </tr>\n",
       "    <tr>\n",
       "      <th>max</th>\n",
       "      <td>NaN</td>\n",
       "      <td>NaN</td>\n",
       "      <td>NaN</td>\n",
       "      <td>9.060000</td>\n",
       "    </tr>\n",
       "  </tbody>\n",
       "</table>\n",
       "</div>"
      ],
      "text/plain": [
       "                name      studio yearReleased      rating\n",
       "count            467         467          467  467.000000\n",
       "unique           450         166           22         NaN\n",
       "top     Black Clover   J.C.Staff         2021         NaN\n",
       "freq               3          16          171         NaN\n",
       "mean             NaN         NaN          NaN    2.338801\n",
       "std              NaN         NaN          NaN    3.393290\n",
       "min              NaN         NaN          NaN    0.000000\n",
       "25%              NaN         NaN          NaN    0.000000\n",
       "50%              NaN         NaN          NaN    0.000000\n",
       "75%              NaN         NaN          NaN    6.420000\n",
       "max              NaN         NaN          NaN    9.060000"
      ]
     },
     "execution_count": 6,
     "metadata": {},
     "output_type": "execute_result"
    }
   ],
   "source": [
    "df.describe(include = 'all')"
   ]
  },
  {
   "cell_type": "code",
   "execution_count": 7,
   "id": "871e8d91-81e6-4879-8d98-b596729698a2",
   "metadata": {},
   "outputs": [
    {
     "data": {
      "text/plain": [
       "array([' 2021', ' 2022', ' 2020', ' 2023', ' Fall 2022', ' 2017',\n",
       "       ' Censored', ' 2016', ' 5 min. per ep.', ' 1996', ' 2000',\n",
       "       ' Unknown', ' 2018', ' Summer 2022', ' 2010', ' Spring 2022',\n",
       "       ' 23 min.', ' TV', ' 15 min.', ' 1999', ' 2019', ' Winter 2022'],\n",
       "      dtype=object)"
      ]
     },
     "execution_count": 7,
     "metadata": {},
     "output_type": "execute_result"
    }
   ],
   "source": [
    "# Checking for inconsistencies under the \"yearReleased\" column.\n",
    "df['yearReleased'].unique()"
   ]
  },
  {
   "cell_type": "code",
   "execution_count": 8,
   "id": "1bac0239-284a-4ead-a7a3-03b707547001",
   "metadata": {},
   "outputs": [],
   "source": [
    "# Renaming unproperly scraped entries under \"yearReleased\" column.\n",
    "\n",
    "df.loc[df.yearReleased == \" Fall 2022\"] = \"2022\"\n",
    "df.loc[df.yearReleased == \" Summer 2022\"] = \"2022\"\n",
    "df.loc[df.yearReleased == \" Winter 2022\"] = \"2022\"\n",
    "df.loc[df.yearReleased == \" Spring 2022\"] = \"2022\""
   ]
  },
  {
   "cell_type": "code",
   "execution_count": 51,
   "id": "a1cd79a4-e985-479c-92d7-c09168f20f7d",
   "metadata": {},
   "outputs": [],
   "source": [
    "# Removing unwanted rows under the \"yearReleased\" column with the inapropriate format.\n",
    "\n",
    "df = df.drop(df[df.yearReleased == ' Censored'].index)\n",
    "df = df.drop(df[df.yearReleased == ' 5 min. per ep.'].index)\n",
    "df = df.drop(df[df.yearReleased == ' Unknown'].index)\n",
    "df = df.drop(df[df.yearReleased == ' 23 min.'].index)\n",
    "df = df.drop(df[df.yearReleased == ' TV'].index)\n",
    "df = df.drop(df[df.yearReleased == ' 15 min.'].index)\n",
    "\n",
    "# Removing extra spaces\n",
    "df['yearReleased'] = df['yearReleased'].str.strip()"
   ]
  },
  {
   "cell_type": "code",
   "execution_count": 52,
   "id": "f995e79a-5ff1-4452-ba1a-0339bbb7de68",
   "metadata": {},
   "outputs": [
    {
     "data": {
      "text/plain": [
       "array(['2021', '2022', '2020', '2023', '2017', '2016', '1996', '2000',\n",
       "       '2018', '2010', '1999', '2019'], dtype=object)"
      ]
     },
     "execution_count": 52,
     "metadata": {},
     "output_type": "execute_result"
    }
   ],
   "source": [
    "# Checking.\n",
    "df['yearReleased'].unique()"
   ]
  },
  {
   "cell_type": "code",
   "execution_count": 11,
   "id": "9af924db-139d-45db-adb1-8e3c1d29acb5",
   "metadata": {},
   "outputs": [],
   "source": [
    "# Saving file to csv.\n",
    "df.to_csv(\"../Data/AnimeListClened.csv\")"
   ]
  },
  {
   "cell_type": "code",
   "execution_count": 54,
   "id": "489ceed0-c972-4652-8588-b822a055f15d",
   "metadata": {},
   "outputs": [
    {
     "data": {
      "text/plain": [
       "array([   7.12,    6.17,    0.  ,    6.77,    7.01,    7.42,    7.75,\n",
       "          7.45,    7.19,    7.93,    6.22,    9.06,    6.33, 2022.  ,\n",
       "          6.46,    7.29,    7.85,    8.29,    5.93,    7.79,    6.31,\n",
       "          7.16,    5.45,    8.17,    7.25,    5.2 ,    7.2 ,    7.76,\n",
       "          6.89,    5.32,    8.18,    6.34,    5.73,    6.25,    8.36,\n",
       "          7.91,    8.3 ,    8.21,    5.54,    6.35,    8.56,    6.81,\n",
       "          7.46,    6.52,    7.66,    7.5 ,    7.38,    8.  ,    8.62,\n",
       "          6.26,    7.52,    6.61,    5.67,    7.65,    7.48,    6.23,\n",
       "          8.28,    7.83,    8.57,    6.88,    6.32,    7.6 ,    6.84,\n",
       "          7.53,    5.62,    8.68,    5.71,    6.63,    6.58,    7.57,\n",
       "          5.38,    7.74,    7.82,    7.88,    7.59,    7.69,    7.61,\n",
       "          6.96,    7.35,    6.59,    7.28,    6.67,    6.54,    8.49,\n",
       "          6.38,    6.36,    7.05,    5.47,    7.34,    8.22,    4.84,\n",
       "          8.55,    8.53,    8.63,    7.49,    7.31,    6.69,    5.14,\n",
       "          6.91,    7.24,    6.8 ,    6.71,    7.67,    6.68,    7.02,\n",
       "          6.7 ,    7.8 ,    7.3 ,    6.2 ,    8.2 ,    7.51,    6.3 ,\n",
       "          8.05,    8.45,    5.46])"
      ]
     },
     "execution_count": 54,
     "metadata": {},
     "output_type": "execute_result"
    }
   ],
   "source": [
    "df['rating'].unique()"
   ]
  },
  {
   "cell_type": "code",
   "execution_count": 76,
   "id": "21b15884-7cd2-45b0-83fd-191bcd84b21f",
   "metadata": {},
   "outputs": [],
   "source": [
    "df['rating'] = df['rating'].astype(str)"
   ]
  },
  {
   "cell_type": "code",
   "execution_count": 77,
   "id": "8f90d857-b5af-411d-b4ac-b28670d29dd5",
   "metadata": {},
   "outputs": [],
   "source": [
    "# Removing extra spaces\n",
    "df['rating'] = df['rating'].str.strip()\n",
    "df['name'] = df['name'].str.strip()"
   ]
  },
  {
   "cell_type": "code",
   "execution_count": 78,
   "id": "23ab564e-3726-40b5-85d2-36acf00c7267",
   "metadata": {},
   "outputs": [
    {
     "data": {
      "text/plain": [
       "array(['9.06', '8.68', '8.63', '8.62', '8.57', '8.56', '8.55', '8.53',\n",
       "       '8.49', '8.45', '8.36', '8.3', '8.29', '8.28', '8.22', '8.21',\n",
       "       '8.2', '8.18', '8.17', '8.05', '8.0', '7.93', '7.91', '7.88',\n",
       "       '7.85', '7.83', '7.82', '7.8', '7.79', '7.76', '7.75', '7.74',\n",
       "       '7.69', '7.67', '7.66', '7.65', '7.61', '7.6', '7.59', '7.57',\n",
       "       '7.53', '7.52', '7.51', '7.5', '7.49', '7.48', '7.46', '7.45',\n",
       "       '7.42', '7.38', '7.35', '7.34', '7.31', '7.3', '7.29', '7.28',\n",
       "       '7.25', '7.24', '7.2', '7.19', '7.16', '7.12', '7.05', '7.02',\n",
       "       '7.01', '6.96', '6.91', '6.89', '6.88', '6.84', '6.81', '6.8',\n",
       "       '6.77', '6.71', '6.7', '6.69', '6.68', '6.67', '6.63', '6.61',\n",
       "       '6.59', '6.58', '6.54', '6.52', '6.46', '6.38', '6.36', '6.35',\n",
       "       '6.34', '6.33', '6.32', '6.31', '6.3', '6.26', '6.25', '6.23',\n",
       "       '6.22', '6.2', '6.17', '5.93', '5.73', '5.71', '5.67', '5.62',\n",
       "       '5.54', '5.47', '5.46', '5.45', '5.38', '5.32', '5.2', '5.14',\n",
       "       '4.84', '0.0'], dtype=object)"
      ]
     },
     "execution_count": 78,
     "metadata": {},
     "output_type": "execute_result"
    }
   ],
   "source": [
    "df['rating'].unique()"
   ]
  },
  {
   "cell_type": "code",
   "execution_count": 79,
   "id": "ef715ccf-33bc-4c8e-9c7a-fe319a2bbeb8",
   "metadata": {},
   "outputs": [
    {
     "data": {
      "text/plain": [
       "array(['9.06', '8.68', '8.63', '8.62', '8.57', '8.56', '8.55', '8.53',\n",
       "       '8.49', '8.45', '8.36', '8.3', '8.29', '8.28', '8.22', '8.21',\n",
       "       '8.2', '8.18', '8.17', '8.05', '8.0', '7.93', '7.91', '7.88',\n",
       "       '7.85', '7.83', '7.82', '7.8', '7.79', '7.76', '7.75', '7.74',\n",
       "       '7.69', '7.67', '7.66', '7.65', '7.61', '7.6', '7.59', '7.57',\n",
       "       '7.53', '7.52', '7.51', '7.5', '7.49', '7.48', '7.46', '7.45',\n",
       "       '7.42', '7.38', '7.35', '7.34', '7.31', '7.3', '7.29', '7.28',\n",
       "       '7.25', '7.24', '7.2', '7.19', '7.16', '7.12', '7.05', '7.02',\n",
       "       '7.01', '6.96', '6.91', '6.89', '6.88', '6.84', '6.81', '6.8',\n",
       "       '6.77', '6.71', '6.7', '6.69', '6.68', '6.67', '6.63', '6.61',\n",
       "       '6.59', '6.58', '6.54', '6.52', '6.46', '6.38', '6.36', '6.35',\n",
       "       '6.34', '6.33', '6.32', '6.31', '6.3', '6.26', '6.25', '6.23',\n",
       "       '6.22', '6.2', '6.17', '5.93', '5.73', '5.71', '5.67', '5.62',\n",
       "       '5.54', '5.47', '5.46', '5.45', '5.38', '5.32', '5.2', '5.14',\n",
       "       '4.84', '0.0'], dtype=object)"
      ]
     },
     "execution_count": 79,
     "metadata": {},
     "output_type": "execute_result"
    }
   ],
   "source": [
    "# Removing the row with rating as 2022.0\n",
    "df = df.drop(df[df.rating == '2022.0'].index)\n",
    "df['rating'].unique()"
   ]
  },
  {
   "cell_type": "code",
   "execution_count": 80,
   "id": "429994c3-3f58-4fbf-9d57-e9c7f2e7f8fb",
   "metadata": {},
   "outputs": [],
   "source": [
    "# Convert back to number\n",
    "df['rating'] = pd.to_numeric(df['rating'], errors='coerce')"
   ]
  },
  {
   "cell_type": "markdown",
   "id": "a8c44e05-7f46-4f86-ba3e-86c279405795",
   "metadata": {},
   "source": [
    "Let's find the top 5 most rated anime."
   ]
  },
  {
   "cell_type": "code",
   "execution_count": 82,
   "id": "197adefd-db15-4fad-8fc9-edaa605c0c52",
   "metadata": {},
   "outputs": [
    {
     "data": {
      "image/png": "[encoded data removed]",
      "text/plain": [
       "<Figure size 432x288 with 1 Axes>"
      ]
     },
     "metadata": {
      "needs_background": "light"
     },
     "output_type": "display_data"
    }
   ],
   "source": [
    "# Sort the dataframe in descending order by the 'y' column\n",
    "df = df.sort_values('rating', ascending=False)\n",
    "\n",
    "# Select the top 5 highest values\n",
    "top_5 = df.head(5)\n",
    "\n",
    "# Plot the bar graph using the top 5 values\n",
    "plt.bar(top_5['name'], top_5['rating'])\n",
    "\n",
    "plt.xlabel('Anime Names')\n",
    "plt.ylabel('Ratings')\n",
    "plt.title('Column Chart')\n",
    "\n",
    "plt.xticks(rotation=90)\n",
    "\n",
    "# Show the plot\n",
    "plt.show()"
   ]
  },
  {
   "cell_type": "markdown",
   "id": "f5483b03-ee3d-47f2-b256-72f15cfe5a16",
   "metadata": {},
   "source": [
    "### Conclusion.\n",
    "It appears that the top rated anime of 2021/2022 goes to **Attack on Titans: The Final Season**."
   ]
  },
  {
   "cell_type": "code",
   "execution_count": 83,
   "id": "9b905d28-9a1e-4522-a117-755e699c983f",
   "metadata": {},
   "outputs": [],
   "source": [
    "# Save the dataframe\n",
    "df.to_csv(\"../Data/AnimeListCleaned.csv\")"
   ]
  },
  {
   "cell_type": "code",
   "execution_count": null,
   "id": "22cd88da-f7d9-4a07-a90b-18c091378792",
   "metadata": {},
   "outputs": [],
   "source": []
  }
 ],
 "metadata": {
  "kernelspec": {
   "display_name": "Python 3 (ipykernel)",
   "language": "python",
   "name": "python3"
  },
  "language_info": {
   "codemirror_mode": {
    "name": "ipython",
    "version": 3
   },
   "file_extension": ".py",
   "mimetype": "text/x-python",
   "name": "python",
   "nbconvert_exporter": "python",
   "pygments_lexer": "ipython3",
   "version": "3.9.12"
  }
 },
 "nbformat": 4,
 "nbformat_minor": 5
}
